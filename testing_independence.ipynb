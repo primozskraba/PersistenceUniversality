{
 "cells": [
  {
   "cell_type": "markdown",
   "id": "e94a41a0",
   "metadata": {},
   "source": [
    "# Experiment on correlation between cycles"
   ]
  },
  {
   "cell_type": "code",
   "execution_count": 1,
   "id": "a3126803",
   "metadata": {},
   "outputs": [],
   "source": [
    "# %matplotlib notebook\n",
    "import sys\n",
    "\n",
    "import scipy.stats as st\n",
    "import statsmodels.api as sm\n",
    "\n",
    "import numpy as np\n",
    "import matplotlib as mpl\n",
    "import matplotlib.pyplot as plt\n",
    "import seaborn as sns\n",
    "\n",
    "%reload_ext autoreload\n",
    "%autoreload 2\n",
    "%matplotlib inline\n",
    "\n",
    "\n",
    "# useful utilities\n",
    "# -----------------------\n",
    "sys.path.append(\"./modules\")\n",
    "import utils\n",
    "import PDplot\n",
    "from PDplot import ALPHA, RIPS\n",
    "# -----------------------\n",
    "\n",
    "\n",
    "\n",
    "# Visual fine tuning\n",
    "# -----------------------\n",
    "sns.set_theme(style=\"darkgrid\")\n",
    "DPI = 300\n",
    "FN_TITLE = 30\n",
    "FN_AXES = 24\n",
    "FN_LEGEND = 12"
   ]
  },
  {
   "cell_type": "code",
   "execution_count": 2,
   "id": "14572514",
   "metadata": {},
   "outputs": [
    {
     "name": "stdout",
     "output_type": "stream",
     "text": [
      "(100000, 100)\n",
      "(100000, 100)\n"
     ]
    }
   ],
   "source": [
    "# Load files\n",
    "# -----------------------\n",
    "# each row is a generated persistence diagram\n",
    "# with M persistence values sampled uniformly at random\n",
    "# without replacement\n",
    "pbx = np.load('./independence_files/boxiid.npy')\n",
    "pbm = np.load('./independence_files/browniid.npy')\n",
    "\n",
    "# number of runs used\n",
    "N = 100000\n",
    "# number of sampled classes in each\n",
    "# persistence diagram\n",
    "M = 100\n",
    "pbx = pbx[:,:M]\n",
    "pbm = pbm[:,:M]\n",
    "pbm = pbm[:N,:]\n",
    "print(pbx.shape)\n",
    "print(pbm.shape)"
   ]
  },
  {
   "cell_type": "code",
   "execution_count": 3,
   "id": "67676868",
   "metadata": {},
   "outputs": [],
   "source": [
    "#  Take log log\n",
    "# ---------------\n",
    "lpbx = np.log(np.log(pbx))\n",
    "lpbm = np.log(np.log(pbm))\n",
    "\n",
    "# comparison - iid gumbel\n",
    "lpiid = st.gumbel_l().rvs((N,M))"
   ]
  },
  {
   "cell_type": "code",
   "execution_count": 4,
   "id": "9b276817",
   "metadata": {},
   "outputs": [
    {
     "name": "stdout",
     "output_type": "stream",
     "text": [
      "0.008878097998858393\n",
      "0.011396963533187454\n",
      "0.01318507034906439\n",
      "0.0023365358113305802\n",
      "0.0024837865603576995\n",
      "0.0026208662590504125\n"
     ]
    }
   ],
   "source": [
    "# number of samples we use\n",
    "K = 25\n",
    "lpbx = lpbx[:,:K]\n",
    "lpbm = lpbm[:,:K]\n",
    "lpiid = lpiid[:,:K]\n",
    "\n",
    "# compute covariance\n",
    "cbx = np.cov(np.transpose(lpbx))\n",
    "cbm = np.cov(np.transpose(lpbm))\n",
    "ciid = np.cov(np.transpose(lpiid))\n",
    "\n",
    "# compute correlation coefficients\n",
    "ccbx = np.corrcoef(np.transpose(lpbx))\n",
    "ccbm = np.corrcoef(np.transpose(lpbm))\n",
    "cciid = np.corrcoef(np.transpose(lpiid))\n",
    "\n",
    "# remove diagonal \n",
    "zccbx = np.abs(ccbx-np.eye(K))\n",
    "zccbm = np.abs(ccbm-np.eye(K))\n",
    "zcciid = np.abs(cciid-np.eye(K))\n",
    "\n",
    "# print out statistics\n",
    "print(zccbx.max())\n",
    "print(zccbm.max())\n",
    "print(zcciid.max())\n",
    "\n",
    "print(zccbx.mean())\n",
    "print(zccbm.mean())\n",
    "print(zcciid.mean())"
   ]
  },
  {
   "cell_type": "code",
   "execution_count": 5,
   "id": "1ff66a85",
   "metadata": {},
   "outputs": [
    {
     "data": {
      "image/png": "[encoded data removed]",
      "text/plain": [
       "<Figure size 1080x432 with 6 Axes>"
      ]
     },
     "metadata": {},
     "output_type": "display_data"
    }
   ],
   "source": [
    "# Plot correlation matrices\n",
    "#----------------------------\n",
    "# plot 1 - points in a box \n",
    "# plot 2 - points sampled from brownian motion\n",
    "# plot 3 - samples drawn iid from LGumbel\n",
    "\n",
    "fig = plt.figure(figsize=(15,6))\n",
    "plt.subplot(1,3,1)\n",
    "plt.imshow(np.log(np.abs(cbx)), cmap='viridis')\n",
    "cb = plt.colorbar(fraction=0.046)\n",
    "cb.ax.tick_params(labelsize=12)\n",
    "plt.axis('off');\n",
    "\n",
    "plt.subplot(1,3,2)\n",
    "plt.imshow(np.log(np.abs(cbm)), cmap='viridis')\n",
    "cb = plt.colorbar(fraction=0.046)\n",
    "cb.ax.tick_params(labelsize=12)\n",
    "plt.axis('off');\n",
    "\n",
    "plt.subplot(1,3,3)\n",
    "im = plt.imshow(np.log(np.abs(ciid)), cmap='viridis')\n",
    "cb = plt.colorbar(fraction=0.046)\n",
    "cb.ax.tick_params(labelsize=12)\n",
    "plt.axis('off');\n",
    "\n",
    "plt.tight_layout()\n",
    "plt.savefig('cov_bx_bm_iid', dpi=DPI)"
   ]
  },
  {
   "cell_type": "markdown",
   "id": "310f995b",
   "metadata": {},
   "source": [
    "# Distance correlation"
   ]
  },
  {
   "cell_type": "code",
   "execution_count": 6,
   "id": "529a0b9d",
   "metadata": {
    "scrolled": false
   },
   "outputs": [],
   "source": [
    "# compute distance correlation\n",
    "# ------------------------------\n",
    "# once computed - one can just load\n",
    "# dcov_matrices.npy - but for recomputing from the above \n",
    "# the code below can be run.\n",
    "\n",
    "\n",
    "# import dcor\n",
    "# dcov_bx = np.zeros((K,K))\n",
    "# dcor_bx = np.zeros((K,K))\n",
    "# dcov_bm = np.zeros((K,K))\n",
    "# dcor_bm = np.zeros((K,K))\n",
    "# dcov_iid = np.zeros((K,K))\n",
    "# dcor_iid = np.zeros((K,K))\n",
    "\n",
    "# for k in range(K):\n",
    "#     print(k)\n",
    "#     for l in range(k,K):\n",
    "#         dc = dcor.distance_covariance(lpbx[:,k],lpbx[:,l])\n",
    "#         dcov_bx[k,l] = dc\n",
    "#         dcov_bx[l,k] = dc\n",
    "        \n",
    "#         dc = dcor.distance_covariance(lpbm[:,k],lpbm[:,l])\n",
    "#         dcov_bm[k,l] = dc\n",
    "#         dcov_bm[l,k] = dc\n",
    "\n",
    "#         dc = dcor.distance_covariance(lpiid[:,k],lpiid[:,l])\n",
    "#         dcov_iid[k,l] = dc\n",
    "#         dcov_iid[l,k] = dc\n",
    "\n",
    "#         if k==l:\n",
    "#             continue\n",
    "#         dc = dcor.distance_correlation(lpbx[:,k],lpbx[:,l])\n",
    "#         dcor_bx[k,l] = dc\n",
    "#         dcor_bx[l,k] = dc\n",
    "            \n",
    "#         dc = dcor.distance_correlation(lpbm[:,k],lpbm[:,l])\n",
    "#         dcor_bm[k,l] = dc\n",
    "#         dcor_bm[l,k] = dc\n",
    "\n",
    "#         dc = dcor.distance_correlation(lpiid[:,k],lpiid[:,l])\n",
    "#         dcor_iid[k,l] = dc\n",
    "#         dcor_iid[l,k] = dc\n",
    "        \n",
    "# np.save('dcov_matrices', [dcov_bx, dcov_bm, dcov_iid, dcor_bx, dcor_bm, dcor_iid], allow_pickle=True)"
   ]
  },
  {
   "cell_type": "code",
   "execution_count": 7,
   "id": "f1163698",
   "metadata": {},
   "outputs": [
    {
     "data": {
      "image/png": "[encoded data removed]",
      "text/plain": [
       "<Figure size 1080x432 with 6 Axes>"
      ]
     },
     "metadata": {},
     "output_type": "display_data"
    }
   ],
   "source": [
    "# Load values\n",
    "#-------------\n",
    "[dcov_bx, dcov_bm, dcov_iid, dcor_bx, dcor_bm, dcor_iid] = np.load('./independence_files/dcov_matrices.npy', allow_pickle=True)\n",
    "\n",
    "\n",
    "# plotting\n",
    "#---------------\n",
    "fig = plt.figure(figsize=(15,6))\n",
    "plt.subplot(1,3,1)\n",
    "plt.imshow(np.log(np.abs(dcov_bx)), cmap='viridis')\n",
    "cb = plt.colorbar(fraction=0.046)\n",
    "cb.ax.tick_params(labelsize=12)\n",
    "plt.axis('off');\n",
    "\n",
    "plt.subplot(1,3,2)\n",
    "plt.imshow(np.log(np.abs(dcov_bm)), cmap='viridis')\n",
    "cb = plt.colorbar(fraction=0.046)\n",
    "cb.ax.tick_params(labelsize=12)\n",
    "plt.axis('off');\n",
    "\n",
    "plt.subplot(1,3,3)\n",
    "im = plt.imshow(np.log(np.abs(dcov_iid)), cmap='viridis')\n",
    "cb = plt.colorbar(fraction=0.046)\n",
    "cb.ax.tick_params(labelsize=12)\n",
    "plt.axis('off');\n",
    "plt.tight_layout()\n",
    "plt.savefig('dcov_bx_bm_iid', dpi=DPI)"
   ]
  },
  {
   "cell_type": "code",
   "execution_count": 8,
   "id": "074b7ab6",
   "metadata": {},
   "outputs": [
    {
     "name": "stdout",
     "output_type": "stream",
     "text": [
      "0.01002881952721298\n",
      "0.011280578299648718\n",
      "0.009991119249380823\n",
      "0.005357959062834122\n",
      "0.00540852606114537\n",
      "0.005253451730204158\n"
     ]
    }
   ],
   "source": [
    "# Statistics of distance correlation\n",
    "#------------------------------------\n",
    "print(np.max(dcor_bx))\n",
    "print(np.max(dcor_bm))\n",
    "print(np.max(dcor_iid))\n",
    "print(np.mean(dcor_bx))\n",
    "print(np.mean(dcor_bm))\n",
    "print(np.mean(dcor_iid))"
   ]
  }
 ],
 "metadata": {
  "kernelspec": {
   "display_name": "Python 3 (ipykernel)",
   "language": "python",
   "name": "python3"
  },
  "language_info": {
   "codemirror_mode": {
    "name": "ipython",
    "version": 3
   },
   "file_extension": ".py",
   "mimetype": "text/x-python",
   "name": "python",
   "nbconvert_exporter": "python",
   "pygments_lexer": "ipython3",
   "version": "3.8.13"
  }
 },
 "nbformat": 4,
 "nbformat_minor": 5
}
